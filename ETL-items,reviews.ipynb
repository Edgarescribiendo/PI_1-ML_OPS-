{
  "cells": [
    {
      "cell_type": "markdown",
      "metadata": {
        "id": "-rd792NjR6Xk"
      },
      "source": [
        "<h1 align=center> Proceso de ETL <sub align=center> (ETL PROCESS)</sub></h1>"
      ]
    },
    {
      "cell_type": "markdown",
      "metadata": {
        "id": "kPKJxgKqR6YT"
      },
      "source": [
        "<h3 align=left> Instalacion de librerias<sub>/Library installation</sub> </h3>"
      ]
    },
    {
      "cell_type": "code",
      "execution_count": null,
      "metadata": {
        "colab": {
          "base_uri": "https://localhost:8080/"
        },
        "id": "JvWPygffR6Yv",
        "outputId": "615f166b-1793-4a80-be8b-ff9bc255c94c"
      },
      "outputs": [],
      "source": [
        "%pip install -r requirements.txt"
      ]
    },
    {
      "cell_type": "markdown",
      "metadata": {
        "id": "lpc5KJNLR6Y0"
      },
      "source": [
        "<h3 align=left> Importacion de librerias<sub>/Library Importing</sub> </h3>"
      ]
    },
    {
      "cell_type": "code",
      "execution_count": null,
      "metadata": {
        "id": "YZqJ_a0aR6Y1"
      },
      "outputs": [],
      "source": [
        "import pandas as pd\n",
        "import ast\n",
        "import seaborn as sns\n",
        "import nltk\n",
        "from nltk.sentiment.vader import SentimentIntensityAnalyzer"
      ]
    },
    {
      "cell_type": "markdown",
      "metadata": {
        "id": "YTXVfNhZR6Y4"
      },
      "source": [
        "<h2 align=Center> Extraccion de datos<sub>/Data extraction</sub></h2>"
      ]
    },
    {
      "cell_type": "markdown",
      "metadata": {
        "id": "fbJXUwt7R6Y5"
      },
      "source": [
        "<h3 align=left> Rutas /<sub> Paths</sub> </h3>"
      ]
    },
    {
      "cell_type": "code",
      "execution_count": null,
      "metadata": {
        "id": "BXzdkPB3R6Y6"
      },
      "outputs": [],
      "source": [
        "# Ubicaciones de los archivos Json\\\\ Json files paths\n",
        "raw_reviews = 'australian_user_reviews.json'\n",
        "raw_items = 'australian_users_items.json'"
      ]
    },
    {
      "cell_type": "markdown",
      "metadata": {
        "id": "r6uj8bP0R6Y7"
      },
      "source": [
        "<h3 align=left> Funciones<sub>/Functions</sub></h3>"
      ]
    },
    {
      "cell_type": "code",
      "execution_count": null,
      "metadata": {
        "id": "bKLg9hsLR6Y8"
      },
      "outputs": [],
      "source": [
        "def Open_extraction(raw_data):\n",
        "  \"\"\"\n",
        "  Esta función lee linea a linea  la data del archivo JSON y entrega una lista de diccionarios.\n",
        "  This function reads each line of the JSON data from a file and converts it into a list of dictionaries.\n",
        "  \"\"\"\n",
        "  new_list = []\n",
        "  with open(raw_data, 'r', encoding='utf-8') as json_file:\n",
        "      for line in json_file:\n",
        "          new_dicc = ast.literal_eval(line) # ast.literal_eval convierte la línea en un diccionario / ast.literal_eval converts the line to a dictionary\n",
        "          new_list.append(new_dicc)\n",
        "  return new_list"
      ]
    },
    {
      "cell_type": "code",
      "execution_count": null,
      "metadata": {
        "id": "vjoEIde0R6Y_"
      },
      "outputs": [],
      "source": [
        "def analyzer(review):\n",
        "  \"\"\"\n",
        "  Esta función analiza el sentimiento de una reseña de texto (review) y devuelve un valor que representa la polaridad del sentimiento\n",
        "  This function analyze and assigns a score based on the sentiment analysis of the review\n",
        "  \"\"\"\n",
        "  if isinstance(review, str):\n",
        "      score = SentimentIntensityAnalyzer().polarity_scores(review)\n",
        "      if score['compound'] < -0.05:\n",
        "          return 0\n",
        "      elif score['compound'] > 0.05:\n",
        "          return 2\n",
        "      else:\n",
        "          return 1"
      ]
    },
    {
      "cell_type": "code",
      "execution_count": null,
      "metadata": {
        "id": "Y_4tQg8dR6ZB"
      },
      "outputs": [],
      "source": [
        "def Unnesting_data(raw_df,data_column):\n",
        "    \"\"\"\n",
        "    Esta función transforma una columna con datos anidados en un conjunto de columnas independientes y las une en un solo Dataframe\n",
        "    This function transforms a column with nested data into a set of independent columns and joins them into a single Dataframe.\n",
        "    \"\"\"\n",
        "    data_columns = raw_df.explode([data_column])\n",
        "    unnested_data1 =pd.json_normalize(data_columns[data_column]).set_index(data_columns[data_column].index)\n",
        "    processed_data = pd.concat([data_columns, unnested_data1], axis=1).reset_index().drop(['index',data_column], axis = 1)\n",
        "    return processed_data\n"
      ]
    },
    {
      "cell_type": "code",
      "execution_count": null,
      "metadata": {
        "id": "C3YxqKodR6ZJ"
      },
      "outputs": [],
      "source": [
        "Items_nested_data = pd.DataFrame(Open_extraction(raw_items))\n",
        "Items_nested_data"
      ]
    },
    {
      "cell_type": "code",
      "execution_count": null,
      "metadata": {
        "id": "qxN3srfMR6ZK"
      },
      "outputs": [],
      "source": [
        "reviews_nested_data = pd.DataFrame(Open_extraction(raw_reviews))\n",
        "reviews_nested_data"
      ]
    },
    {
      "cell_type": "markdown",
      "metadata": {
        "id": "Nz64Ba7_R6ZN"
      },
      "source": [
        "<h2 align=Center> Transformacion de datos<sub>/Data transform</sub></h2>"
      ]
    },
    {
      "cell_type": "markdown",
      "metadata": {
        "id": "1BRhxnJ6R6ZN"
      },
      "source": [
        "<h3 align=left> Desanidado de columnas<sub>/unnesting columns</sub></h3>"
      ]
    },
    {
      "cell_type": "markdown",
      "metadata": {
        "id": "72eT34I1R6ZO"
      },
      "source": [
        "Items"
      ]
    },
    {
      "cell_type": "code",
      "execution_count": null,
      "metadata": {
        "id": "eWWrNcL1R6ZQ"
      },
      "outputs": [],
      "source": [
        "Items_unnested_data = Unnesting_data(Items_nested_data,'items')\n",
        "preprocess_items = Items_unnested_data"
      ]
    },
    {
      "cell_type": "markdown",
      "metadata": {
        "id": "l7c7tHd2R6ZR"
      },
      "source": [
        "reviews"
      ]
    },
    {
      "cell_type": "code",
      "execution_count": null,
      "metadata": {
        "id": "N7TMEsXeR6ZR"
      },
      "outputs": [],
      "source": [
        "reviews_unnested_data = Unnesting_data(reviews_nested_data,'reviews')\n",
        "preprocess_reviews = reviews_unnested_data"
      ]
    },
    {
      "cell_type": "markdown",
      "metadata": {
        "id": "j4n1PFUsR6ZS"
      },
      "source": [
        "<h3>Datos nulos<sub>/null data<sub></h3>"
      ]
    },
    {
      "cell_type": "code",
      "execution_count": null,
      "metadata": {
        "id": "klmruz25R6ZT"
      },
      "outputs": [],
      "source": [
        "#Columnas de data items con datos nulos / Identifying columns with null values in items data.\n",
        "Items_unnested_data.isnull().any()"
      ]
    },
    {
      "cell_type": "code",
      "execution_count": null,
      "metadata": {
        "id": "k1L7NGqWR6ZU"
      },
      "outputs": [],
      "source": [
        "#Columnas de data reviews con datos nulos /Identifying columns with null values in reviews data.\n",
        "reviews_unnested_data.isnull().any()"
      ]
    },
    {
      "cell_type": "markdown",
      "metadata": {
        "id": "1gxhu_C7R6ZX"
      },
      "source": [
        "<h4>Datos nulos por dataframe<sub>/Null data by df</h4>"
      ]
    },
    {
      "cell_type": "code",
      "execution_count": null,
      "metadata": {
        "id": "59qMXvBNR6Zb",
        "outputId": "82e5b7bc-5915-46a4-e720-d3547bd44546"
      },
      "outputs": [],
      "source": [
        "#Proporcion de valores por variable data de items\n",
        "(\n",
        "    preprocess_items\n",
        "    .isnull()\n",
        "    .melt(value_name='missing')\n",
        "    .pipe(\n",
        "        lambda df: (\n",
        "            sns.displot(\n",
        "                data=df,\n",
        "                y='variable',\n",
        "                hue='missing',\n",
        "                multiple='fill',\n",
        "                aspect=2\n",
        "            )\n",
        "        )\n",
        "    )\n",
        ")"
      ]
    },
    {
      "cell_type": "code",
      "execution_count": null,
      "metadata": {
        "id": "iiCtAZ82R6Zc",
        "outputId": "b98f806c-5835-42cd-da73-6c204fa778fd"
      },
      "outputs": [],
      "source": [
        "#Proporcion de valores por variable data de reviews\n",
        "(\n",
        "    preprocess_reviews\n",
        "    .isnull()\n",
        "    .melt(value_name='missing')\n",
        "    .pipe(\n",
        "        lambda df: (\n",
        "            sns.displot(\n",
        "                data=df,\n",
        "                y='variable',\n",
        "                hue='missing',\n",
        "                multiple='fill',\n",
        "                aspect=2\n",
        "            )\n",
        "        )\n",
        "    )\n",
        ")"
      ]
    },
    {
      "cell_type": "markdown",
      "metadata": {
        "id": "2kB8z36_R6Zd"
      },
      "source": [
        " <h4>Eliminacion de nulos<sub>/Removing null values</sub></h4>"
      ]
    },
    {
      "cell_type": "code",
      "execution_count": null,
      "metadata": {
        "id": "Bmd5JPlVR6Ze"
      },
      "outputs": [],
      "source": [
        "#Eliminacion de datos nulos datos de items y reviews / Eliminating null data in items and reviews.\n",
        "preprocess_reviews = preprocess_reviews.dropna()\n",
        "preprocess_items = preprocess_items.dropna()"
      ]
    },
    {
      "cell_type": "markdown",
      "metadata": {
        "id": "i4tSrU-gR6Ze"
      },
      "source": [
        "<h4>Preparacion de columnas<sub>/Columns preparation</sub></h4>"
      ]
    },
    {
      "cell_type": "code",
      "execution_count": null,
      "metadata": {
        "id": "rfV-j2YOR6Zi"
      },
      "outputs": [],
      "source": [
        "#Creacion de columna 'year' / Creating a 'year' column\n",
        "preprocess_reviews ['year'] = preprocess_reviews['posted'].str.extract('(\\d{4})', expand=False)\n",
        "preprocess_reviews"
      ]
    },
    {
      "cell_type": "code",
      "execution_count": null,
      "metadata": {},
      "outputs": [],
      "source": [
        "preprocess_reviews['recommend'].isna().sum()"
      ]
    },
    {
      "cell_type": "code",
      "execution_count": null,
      "metadata": {
        "id": "4WdfLj4CR6Zj"
      },
      "outputs": [],
      "source": [
        "#Cambiamos los elementos de la columna recommend por unos mas faciles de procesar por el modelo /Replacing values in the \"recommend\" column with values easier for the model to process.\n",
        "preprocess_reviews['recommend'] = preprocess_reviews['recommend'].replace({True: 1, False: 0}).astype(int)\n",
        "preprocess_reviews"
      ]
    },
    {
      "cell_type": "markdown",
      "metadata": {
        "id": "69GMA-C-R6Zl"
      },
      "source": [
        "<h3 align=left> Analisis de sentimientos<sub>/Sentiment analyzer</sub></h3>"
      ]
    },
    {
      "cell_type": "code",
      "execution_count": null,
      "metadata": {
        "id": "BEww86qcR6Zl"
      },
      "outputs": [],
      "source": [
        "nltk.download('punkt')\n",
        "nltk.download('vader_lexicon')"
      ]
    },
    {
      "cell_type": "code",
      "execution_count": null,
      "metadata": {
        "id": "YnPD_440R6Zm"
      },
      "outputs": [],
      "source": [
        "preprocess_reviews['sentiment_analysis'] = preprocess_reviews['review'].apply(analyzer)\n",
        "preprocess_reviews"
      ]
    },
    {
      "cell_type": "markdown",
      "metadata": {
        "id": "VIw95YEvR6Zo"
      },
      "source": [
        "<h4>Eliminacion de columnas no necesarias para el analisis<sub>/Removing columns not needed for analysis.</sub></h4>"
      ]
    },
    {
      "cell_type": "code",
      "execution_count": null,
      "metadata": {
        "id": "vMvRstumR6Zp"
      },
      "outputs": [],
      "source": [
        "processed_reviews = preprocess_reviews.drop(['user_url','last_edited','funny','helpful','posted','review'], axis = 1)\n",
        "processed_reviews"
      ]
    },
    {
      "cell_type": "code",
      "execution_count": null,
      "metadata": {
        "id": "a_ZdJlgoR6Zp"
      },
      "outputs": [],
      "source": [
        "processed_items = preprocess_items.drop(['items_count','user_url','playtime_2weeks'], axis = 1)\n",
        "processed_items"
      ]
    },
    {
      "cell_type": "markdown",
      "metadata": {
        "id": "zuRPc0CTq8sV"
      },
      "source": [
        "<h2 align=Center> Carga de datos<sub>/Data load</sub></h2>"
      ]
    },
    {
      "cell_type": "markdown",
      "metadata": {
        "id": "c7WYFsF2R6ZI"
      },
      "source": [
        "<h4>Convercion de archivos Json a parquet<sub>/Converting JSON files to Parquet format<sub></h4>"
      ]
    },
    {
      "cell_type": "code",
      "execution_count": null,
      "metadata": {
        "id": "ivbd9hCJrcp7"
      },
      "outputs": [],
      "source": [
        "processed_items = processed_items.to_parquet('items.parquet')\n"
      ]
    },
    {
      "cell_type": "code",
      "execution_count": null,
      "metadata": {
        "id": "YLJywnQItha0"
      },
      "outputs": [],
      "source": [
        "processed_reviews = processed_reviews.to_parquet('reviews.parquet')\n"
      ]
    }
  ],
  "metadata": {
    "colab": {
      "provenance": []
    },
    "kernelspec": {
      "display_name": "Python 3",
      "language": "python",
      "name": "python3"
    },
    "language_info": {
      "codemirror_mode": {
        "name": "ipython",
        "version": 3
      },
      "file_extension": ".py",
      "mimetype": "text/x-python",
      "name": "python",
      "nbconvert_exporter": "python",
      "pygments_lexer": "ipython3",
      "version": "3.11.9"
    }
  },
  "nbformat": 4,
  "nbformat_minor": 0
}
