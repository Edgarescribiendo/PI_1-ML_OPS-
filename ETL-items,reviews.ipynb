{
  "cells": [
    {
      "cell_type": "markdown",
      "metadata": {
        "id": "-rd792NjR6Xk"
      },
      "source": [
        "<h1 align=center> Proceso de ETL <sub align=center> (ETL PROCESS)</sub></h1>"
      ]
    },
    {
      "cell_type": "markdown",
      "metadata": {
        "id": "kPKJxgKqR6YT"
      },
      "source": [
        "<h3 align=left> Instalacion de librerias<sub>/Library installation</sub> </h3>"
      ]
    },
    {
      "cell_type": "code",
      "execution_count": null,
      "metadata": {
        "colab": {
          "base_uri": "https://localhost:8080/"
        },
        "id": "JvWPygffR6Yv",
        "outputId": "615f166b-1793-4a80-be8b-ff9bc255c94c"
      },
      "outputs": [],
      "source": [
        "%pip install -r requirements.txt"
      ]
    },
    {
      "cell_type": "markdown",
      "metadata": {
        "id": "lpc5KJNLR6Y0"
      },
      "source": [
        "<h3 align=left> Importacion de librerias<sub>/Library Importing</sub> </h3>"
      ]
    },
    {
      "cell_type": "code",
      "execution_count": 3,
      "metadata": {
        "id": "YZqJ_a0aR6Y1"
      },
      "outputs": [],
      "source": [
        "import pandas as pd\n",
        "import ast\n",
        "import seaborn as sns\n",
        "import nltk\n",
        "from nltk.sentiment.vader import SentimentIntensityAnalyzer"
      ]
    },
    {
      "cell_type": "markdown",
      "metadata": {
        "id": "YTXVfNhZR6Y4"
      },
      "source": [
        "<h2 align=Center> Extraccion de datos<sub>/Data extraction</sub></h2>"
      ]
    },
    {
      "cell_type": "markdown",
      "metadata": {
        "id": "fbJXUwt7R6Y5"
      },
      "source": [
        "<h3 align=left> Rutas /<sub> Paths</sub> </h3>"
      ]
    },
    {
      "cell_type": "code",
      "execution_count": 4,
      "metadata": {
        "id": "BXzdkPB3R6Y6"
      },
      "outputs": [],
      "source": [
        "# Ubicaciones de los archivos Json\\\\ Json files paths\n",
        "raw_reviews = 'australian_user_reviews.json'\n",
        "raw_items = 'australian_users_items.json'"
      ]
    },
    {
      "cell_type": "markdown",
      "metadata": {
        "id": "r6uj8bP0R6Y7"
      },
      "source": [
        "<h3 align=left> Funciones<sub>/Functions</sub></h3>"
      ]
    },
    {
      "cell_type": "code",
      "execution_count": 5,
      "metadata": {
        "id": "bKLg9hsLR6Y8"
      },
      "outputs": [],
      "source": [
        "def Open_extraction(raw_data):\n",
        "  \"\"\"\n",
        "  Esta función lee linea a linea  la data del archivo JSON y entrega una lista de diccionarios.\n",
        "  This function reads each line of the JSON data from a file and converts it into a list of dictionaries.\n",
        "  \"\"\"\n",
        "  new_list = []\n",
        "  with open(raw_data, 'r', encoding='utf-8') as json_file:\n",
        "      for line in json_file:\n",
        "          new_dicc = ast.literal_eval(line) # ast.literal_eval convierte la línea en un diccionario / ast.literal_eval converts the line to a dictionary\n",
        "          new_list.append(new_dicc)\n",
        "  return new_list"
      ]
    },
    {
      "cell_type": "code",
      "execution_count": 6,
      "metadata": {
        "id": "vjoEIde0R6Y_"
      },
      "outputs": [],
      "source": [
        "def analyzer(review):\n",
        "  \"\"\"\n",
        "  Esta función analiza el sentimiento de una reseña de texto (review) y devuelve un valor que representa la polaridad del sentimiento\n",
        "  This function analyze and assigns a score based on the sentiment analysis of the review\n",
        "  \"\"\"\n",
        "  if isinstance(review, str):\n",
        "      score = SentimentIntensityAnalyzer().polarity_scores(review)\n",
        "      if score['compound'] < -0.05:\n",
        "          return 0\n",
        "      elif score['compound'] > 0.05:\n",
        "          return 2\n",
        "      else:\n",
        "          return 1"
      ]
    },
    {
      "cell_type": "code",
      "execution_count": 7,
      "metadata": {
        "id": "Y_4tQg8dR6ZB"
      },
      "outputs": [],
      "source": [
        "def Unnesting_data(raw_df,data_column):\n",
        "    \"\"\"\n",
        "    Esta función transforma una columna con datos anidados en un conjunto de columnas independientes y las une en un solo Dataframe\n",
        "    This function transforms a column with nested data into a set of independent columns and joins them into a single Dataframe.\n",
        "    \"\"\"\n",
        "    data_columns = raw_df.explode([data_column])\n",
        "    unnested_data1 =pd.json_normalize(data_columns[data_column]).set_index(data_columns[data_column].index)\n",
        "    processed_data = pd.concat([data_columns, unnested_data1], axis=1).reset_index().drop(['index',data_column], axis = 1)\n",
        "    return processed_data\n"
      ]
    },
    {
      "cell_type": "code",
      "execution_count": null,
      "metadata": {
        "id": "C3YxqKodR6ZJ"
      },
      "outputs": [],
      "source": [
        "Items_nested_data = pd.DataFrame(Open_extraction(raw_items))\n",
        "Items_nested_data"
      ]
    },
    {
      "cell_type": "code",
      "execution_count": 8,
      "metadata": {
        "id": "qxN3srfMR6ZK"
      },
      "outputs": [
        {
          "data": {
            "text/html": [
              "<div>\n",
              "<style scoped>\n",
              "    .dataframe tbody tr th:only-of-type {\n",
              "        vertical-align: middle;\n",
              "    }\n",
              "\n",
              "    .dataframe tbody tr th {\n",
              "        vertical-align: top;\n",
              "    }\n",
              "\n",
              "    .dataframe thead th {\n",
              "        text-align: right;\n",
              "    }\n",
              "</style>\n",
              "<table border=\"1\" class=\"dataframe\">\n",
              "  <thead>\n",
              "    <tr style=\"text-align: right;\">\n",
              "      <th></th>\n",
              "      <th>user_id</th>\n",
              "      <th>user_url</th>\n",
              "      <th>reviews</th>\n",
              "    </tr>\n",
              "  </thead>\n",
              "  <tbody>\n",
              "    <tr>\n",
              "      <th>0</th>\n",
              "      <td>76561197970982479</td>\n",
              "      <td>http://steamcommunity.com/profiles/76561197970...</td>\n",
              "      <td>[{'funny': '', 'posted': 'Posted November 5, 2...</td>\n",
              "    </tr>\n",
              "    <tr>\n",
              "      <th>1</th>\n",
              "      <td>js41637</td>\n",
              "      <td>http://steamcommunity.com/id/js41637</td>\n",
              "      <td>[{'funny': '', 'posted': 'Posted June 24, 2014...</td>\n",
              "    </tr>\n",
              "    <tr>\n",
              "      <th>2</th>\n",
              "      <td>evcentric</td>\n",
              "      <td>http://steamcommunity.com/id/evcentric</td>\n",
              "      <td>[{'funny': '', 'posted': 'Posted February 3.',...</td>\n",
              "    </tr>\n",
              "    <tr>\n",
              "      <th>3</th>\n",
              "      <td>doctr</td>\n",
              "      <td>http://steamcommunity.com/id/doctr</td>\n",
              "      <td>[{'funny': '', 'posted': 'Posted October 14, 2...</td>\n",
              "    </tr>\n",
              "    <tr>\n",
              "      <th>4</th>\n",
              "      <td>maplemage</td>\n",
              "      <td>http://steamcommunity.com/id/maplemage</td>\n",
              "      <td>[{'funny': '3 people found this review funny',...</td>\n",
              "    </tr>\n",
              "    <tr>\n",
              "      <th>...</th>\n",
              "      <td>...</td>\n",
              "      <td>...</td>\n",
              "      <td>...</td>\n",
              "    </tr>\n",
              "    <tr>\n",
              "      <th>25794</th>\n",
              "      <td>76561198306599751</td>\n",
              "      <td>http://steamcommunity.com/profiles/76561198306...</td>\n",
              "      <td>[{'funny': '', 'posted': 'Posted May 31.', 'la...</td>\n",
              "    </tr>\n",
              "    <tr>\n",
              "      <th>25795</th>\n",
              "      <td>Ghoustik</td>\n",
              "      <td>http://steamcommunity.com/id/Ghoustik</td>\n",
              "      <td>[{'funny': '', 'posted': 'Posted June 17.', 'l...</td>\n",
              "    </tr>\n",
              "    <tr>\n",
              "      <th>25796</th>\n",
              "      <td>76561198310819422</td>\n",
              "      <td>http://steamcommunity.com/profiles/76561198310...</td>\n",
              "      <td>[{'funny': '1 person found this review funny',...</td>\n",
              "    </tr>\n",
              "    <tr>\n",
              "      <th>25797</th>\n",
              "      <td>76561198312638244</td>\n",
              "      <td>http://steamcommunity.com/profiles/76561198312...</td>\n",
              "      <td>[{'funny': '', 'posted': 'Posted July 21.', 'l...</td>\n",
              "    </tr>\n",
              "    <tr>\n",
              "      <th>25798</th>\n",
              "      <td>LydiaMorley</td>\n",
              "      <td>http://steamcommunity.com/id/LydiaMorley</td>\n",
              "      <td>[{'funny': '1 person found this review funny',...</td>\n",
              "    </tr>\n",
              "  </tbody>\n",
              "</table>\n",
              "<p>25799 rows × 3 columns</p>\n",
              "</div>"
            ],
            "text/plain": [
              "                 user_id                                           user_url  \\\n",
              "0      76561197970982479  http://steamcommunity.com/profiles/76561197970...   \n",
              "1                js41637               http://steamcommunity.com/id/js41637   \n",
              "2              evcentric             http://steamcommunity.com/id/evcentric   \n",
              "3                  doctr                 http://steamcommunity.com/id/doctr   \n",
              "4              maplemage             http://steamcommunity.com/id/maplemage   \n",
              "...                  ...                                                ...   \n",
              "25794  76561198306599751  http://steamcommunity.com/profiles/76561198306...   \n",
              "25795           Ghoustik              http://steamcommunity.com/id/Ghoustik   \n",
              "25796  76561198310819422  http://steamcommunity.com/profiles/76561198310...   \n",
              "25797  76561198312638244  http://steamcommunity.com/profiles/76561198312...   \n",
              "25798        LydiaMorley           http://steamcommunity.com/id/LydiaMorley   \n",
              "\n",
              "                                                 reviews  \n",
              "0      [{'funny': '', 'posted': 'Posted November 5, 2...  \n",
              "1      [{'funny': '', 'posted': 'Posted June 24, 2014...  \n",
              "2      [{'funny': '', 'posted': 'Posted February 3.',...  \n",
              "3      [{'funny': '', 'posted': 'Posted October 14, 2...  \n",
              "4      [{'funny': '3 people found this review funny',...  \n",
              "...                                                  ...  \n",
              "25794  [{'funny': '', 'posted': 'Posted May 31.', 'la...  \n",
              "25795  [{'funny': '', 'posted': 'Posted June 17.', 'l...  \n",
              "25796  [{'funny': '1 person found this review funny',...  \n",
              "25797  [{'funny': '', 'posted': 'Posted July 21.', 'l...  \n",
              "25798  [{'funny': '1 person found this review funny',...  \n",
              "\n",
              "[25799 rows x 3 columns]"
            ]
          },
          "execution_count": 8,
          "metadata": {},
          "output_type": "execute_result"
        }
      ],
      "source": [
        "reviews_nested_data = pd.DataFrame(Open_extraction(raw_reviews))\n",
        "reviews_nested_data"
      ]
    },
    {
      "cell_type": "markdown",
      "metadata": {
        "id": "Nz64Ba7_R6ZN"
      },
      "source": [
        "<h2 align=Center> Transformacion de datos<sub>/Data transform</sub></h2>"
      ]
    },
    {
      "cell_type": "markdown",
      "metadata": {
        "id": "1BRhxnJ6R6ZN"
      },
      "source": [
        "<h3 align=left> Desanidado de columnas<sub>/unnesting columns</sub></h3>"
      ]
    },
    {
      "cell_type": "markdown",
      "metadata": {
        "id": "72eT34I1R6ZO"
      },
      "source": [
        "Items"
      ]
    },
    {
      "cell_type": "code",
      "execution_count": null,
      "metadata": {
        "id": "eWWrNcL1R6ZQ"
      },
      "outputs": [],
      "source": [
        "Items_unnested_data = Unnesting_data(Items_nested_data,'items')\n",
        "preprocess_items = Items_unnested_data"
      ]
    },
    {
      "cell_type": "markdown",
      "metadata": {
        "id": "l7c7tHd2R6ZR"
      },
      "source": [
        "reviews"
      ]
    },
    {
      "cell_type": "code",
      "execution_count": 9,
      "metadata": {
        "id": "N7TMEsXeR6ZR"
      },
      "outputs": [],
      "source": [
        "reviews_unnested_data = Unnesting_data(reviews_nested_data,'reviews')\n",
        "preprocess_reviews = reviews_unnested_data"
      ]
    },
    {
      "cell_type": "markdown",
      "metadata": {
        "id": "j4n1PFUsR6ZS"
      },
      "source": [
        "<h3>Datos nulos<sub>/null data<sub></h3>"
      ]
    },
    {
      "cell_type": "code",
      "execution_count": null,
      "metadata": {
        "id": "klmruz25R6ZT"
      },
      "outputs": [],
      "source": [
        "#Columnas de data items con datos nulos / Identifying columns with null values in items data.\n",
        "Items_unnested_data.isnull().any()"
      ]
    },
    {
      "cell_type": "code",
      "execution_count": 31,
      "metadata": {
        "id": "k1L7NGqWR6ZU"
      },
      "outputs": [
        {
          "data": {
            "text/plain": [
              "user_id        False\n",
              "user_url       False\n",
              "funny           True\n",
              "posted          True\n",
              "last_edited     True\n",
              "item_id         True\n",
              "helpful         True\n",
              "recommend       True\n",
              "review          True\n",
              "dtype: bool"
            ]
          },
          "execution_count": 31,
          "metadata": {},
          "output_type": "execute_result"
        }
      ],
      "source": [
        "#Columnas de data reviews con datos nulos /Identifying columns with null values in reviews data.\n",
        "reviews_unnested_data.isnull().any()"
      ]
    },
    {
      "cell_type": "markdown",
      "metadata": {
        "id": "1gxhu_C7R6ZX"
      },
      "source": [
        "<h4>Datos nulos por dataframe<sub>/Null data by df</h4>"
      ]
    },
    {
      "cell_type": "code",
      "execution_count": null,
      "metadata": {
        "id": "59qMXvBNR6Zb",
        "outputId": "82e5b7bc-5915-46a4-e720-d3547bd44546"
      },
      "outputs": [],
      "source": [
        "#Proporcion de valores por variable data de items\n",
        "(\n",
        "    preprocess_items\n",
        "    .isnull()\n",
        "    .melt(value_name='missing')\n",
        "    .pipe(\n",
        "        lambda df: (\n",
        "            sns.displot(\n",
        "                data=df,\n",
        "                y='variable',\n",
        "                hue='missing',\n",
        "                multiple='fill',\n",
        "                aspect=2\n",
        "            )\n",
        "        )\n",
        "    )\n",
        ")"
      ]
    },
    {
      "cell_type": "code",
      "execution_count": null,
      "metadata": {
        "id": "iiCtAZ82R6Zc",
        "outputId": "b98f806c-5835-42cd-da73-6c204fa778fd"
      },
      "outputs": [],
      "source": [
        "#Proporcion de valores por variable data de reviews\n",
        "(\n",
        "    preprocess_reviews\n",
        "    .isnull()\n",
        "    .melt(value_name='missing')\n",
        "    .pipe(\n",
        "        lambda df: (\n",
        "            sns.displot(\n",
        "                data=df,\n",
        "                y='variable',\n",
        "                hue='missing',\n",
        "                multiple='fill',\n",
        "                aspect=2\n",
        "            )\n",
        "        )\n",
        "    )\n",
        ")"
      ]
    },
    {
      "cell_type": "markdown",
      "metadata": {
        "id": "2kB8z36_R6Zd"
      },
      "source": [
        " <h4>Eliminacion de nulos<sub>/Removing null values</sub></h4>"
      ]
    },
    {
      "cell_type": "code",
      "execution_count": 16,
      "metadata": {
        "id": "Bmd5JPlVR6Ze"
      },
      "outputs": [
        {
          "ename": "NameError",
          "evalue": "name 'preprocess_items' is not defined",
          "output_type": "error",
          "traceback": [
            "\u001b[1;31m---------------------------------------------------------------------------\u001b[0m",
            "\u001b[1;31mNameError\u001b[0m                                 Traceback (most recent call last)",
            "Cell \u001b[1;32mIn[16], line 3\u001b[0m\n\u001b[0;32m      1\u001b[0m \u001b[38;5;66;03m#Eliminacion de datos nulos datos de items y reviews / Eliminating null data in items and reviews.\u001b[39;00m\n\u001b[0;32m      2\u001b[0m preprocess_reviews \u001b[38;5;241m=\u001b[39m preprocess_reviews\u001b[38;5;241m.\u001b[39mdropna()\n\u001b[1;32m----> 3\u001b[0m preprocess_items \u001b[38;5;241m=\u001b[39m \u001b[43mpreprocess_items\u001b[49m\u001b[38;5;241m.\u001b[39mdropna()\n",
            "\u001b[1;31mNameError\u001b[0m: name 'preprocess_items' is not defined"
          ]
        }
      ],
      "source": [
        "#Eliminacion de datos nulos datos de items y reviews / Eliminating null data in items and reviews.\n",
        "preprocess_reviews = preprocess_reviews.dropna()\n",
        "preprocess_items = preprocess_items.dropna()"
      ]
    },
    {
      "cell_type": "markdown",
      "metadata": {
        "id": "i4tSrU-gR6Ze"
      },
      "source": [
        "<h4>Preparacion de columnas<sub>/Columns preparation</sub></h4>"
      ]
    },
    {
      "cell_type": "code",
      "execution_count": 10,
      "metadata": {
        "id": "rfV-j2YOR6Zi"
      },
      "outputs": [
        {
          "data": {
            "text/html": [
              "<div>\n",
              "<style scoped>\n",
              "    .dataframe tbody tr th:only-of-type {\n",
              "        vertical-align: middle;\n",
              "    }\n",
              "\n",
              "    .dataframe tbody tr th {\n",
              "        vertical-align: top;\n",
              "    }\n",
              "\n",
              "    .dataframe thead th {\n",
              "        text-align: right;\n",
              "    }\n",
              "</style>\n",
              "<table border=\"1\" class=\"dataframe\">\n",
              "  <thead>\n",
              "    <tr style=\"text-align: right;\">\n",
              "      <th></th>\n",
              "      <th>user_id</th>\n",
              "      <th>user_url</th>\n",
              "      <th>funny</th>\n",
              "      <th>posted</th>\n",
              "      <th>last_edited</th>\n",
              "      <th>item_id</th>\n",
              "      <th>helpful</th>\n",
              "      <th>recommend</th>\n",
              "      <th>review</th>\n",
              "      <th>year</th>\n",
              "    </tr>\n",
              "  </thead>\n",
              "  <tbody>\n",
              "    <tr>\n",
              "      <th>0</th>\n",
              "      <td>76561197970982479</td>\n",
              "      <td>http://steamcommunity.com/profiles/76561197970...</td>\n",
              "      <td></td>\n",
              "      <td>Posted November 5, 2011.</td>\n",
              "      <td></td>\n",
              "      <td>1250</td>\n",
              "      <td>No ratings yet</td>\n",
              "      <td>True</td>\n",
              "      <td>Simple yet with great replayability. In my opi...</td>\n",
              "      <td>2011</td>\n",
              "    </tr>\n",
              "    <tr>\n",
              "      <th>1</th>\n",
              "      <td>76561197970982479</td>\n",
              "      <td>http://steamcommunity.com/profiles/76561197970...</td>\n",
              "      <td></td>\n",
              "      <td>Posted July 15, 2011.</td>\n",
              "      <td></td>\n",
              "      <td>22200</td>\n",
              "      <td>No ratings yet</td>\n",
              "      <td>True</td>\n",
              "      <td>It's unique and worth a playthrough.</td>\n",
              "      <td>2011</td>\n",
              "    </tr>\n",
              "    <tr>\n",
              "      <th>2</th>\n",
              "      <td>76561197970982479</td>\n",
              "      <td>http://steamcommunity.com/profiles/76561197970...</td>\n",
              "      <td></td>\n",
              "      <td>Posted April 21, 2011.</td>\n",
              "      <td></td>\n",
              "      <td>43110</td>\n",
              "      <td>No ratings yet</td>\n",
              "      <td>True</td>\n",
              "      <td>Great atmosphere. The gunplay can be a bit chu...</td>\n",
              "      <td>2011</td>\n",
              "    </tr>\n",
              "    <tr>\n",
              "      <th>3</th>\n",
              "      <td>js41637</td>\n",
              "      <td>http://steamcommunity.com/id/js41637</td>\n",
              "      <td></td>\n",
              "      <td>Posted June 24, 2014.</td>\n",
              "      <td></td>\n",
              "      <td>251610</td>\n",
              "      <td>15 of 20 people (75%) found this review helpful</td>\n",
              "      <td>True</td>\n",
              "      <td>I know what you think when you see this title ...</td>\n",
              "      <td>2014</td>\n",
              "    </tr>\n",
              "    <tr>\n",
              "      <th>4</th>\n",
              "      <td>js41637</td>\n",
              "      <td>http://steamcommunity.com/id/js41637</td>\n",
              "      <td></td>\n",
              "      <td>Posted September 8, 2013.</td>\n",
              "      <td></td>\n",
              "      <td>227300</td>\n",
              "      <td>0 of 1 people (0%) found this review helpful</td>\n",
              "      <td>True</td>\n",
              "      <td>For a simple (it's actually not all that simpl...</td>\n",
              "      <td>2013</td>\n",
              "    </tr>\n",
              "    <tr>\n",
              "      <th>...</th>\n",
              "      <td>...</td>\n",
              "      <td>...</td>\n",
              "      <td>...</td>\n",
              "      <td>...</td>\n",
              "      <td>...</td>\n",
              "      <td>...</td>\n",
              "      <td>...</td>\n",
              "      <td>...</td>\n",
              "      <td>...</td>\n",
              "      <td>...</td>\n",
              "    </tr>\n",
              "    <tr>\n",
              "      <th>59328</th>\n",
              "      <td>76561198312638244</td>\n",
              "      <td>http://steamcommunity.com/profiles/76561198312...</td>\n",
              "      <td></td>\n",
              "      <td>Posted July 10.</td>\n",
              "      <td></td>\n",
              "      <td>70</td>\n",
              "      <td>No ratings yet</td>\n",
              "      <td>True</td>\n",
              "      <td>a must have classic from steam definitely wort...</td>\n",
              "      <td>NaN</td>\n",
              "    </tr>\n",
              "    <tr>\n",
              "      <th>59329</th>\n",
              "      <td>76561198312638244</td>\n",
              "      <td>http://steamcommunity.com/profiles/76561198312...</td>\n",
              "      <td></td>\n",
              "      <td>Posted July 8.</td>\n",
              "      <td></td>\n",
              "      <td>362890</td>\n",
              "      <td>No ratings yet</td>\n",
              "      <td>True</td>\n",
              "      <td>this game is a perfect remake of the original ...</td>\n",
              "      <td>NaN</td>\n",
              "    </tr>\n",
              "    <tr>\n",
              "      <th>59330</th>\n",
              "      <td>LydiaMorley</td>\n",
              "      <td>http://steamcommunity.com/id/LydiaMorley</td>\n",
              "      <td>1 person found this review funny</td>\n",
              "      <td>Posted July 3.</td>\n",
              "      <td></td>\n",
              "      <td>273110</td>\n",
              "      <td>1 of 2 people (50%) found this review helpful</td>\n",
              "      <td>True</td>\n",
              "      <td>had so much fun plaing this and collecting res...</td>\n",
              "      <td>NaN</td>\n",
              "    </tr>\n",
              "    <tr>\n",
              "      <th>59331</th>\n",
              "      <td>LydiaMorley</td>\n",
              "      <td>http://steamcommunity.com/id/LydiaMorley</td>\n",
              "      <td></td>\n",
              "      <td>Posted July 20.</td>\n",
              "      <td></td>\n",
              "      <td>730</td>\n",
              "      <td>No ratings yet</td>\n",
              "      <td>True</td>\n",
              "      <td>:D</td>\n",
              "      <td>NaN</td>\n",
              "    </tr>\n",
              "    <tr>\n",
              "      <th>59332</th>\n",
              "      <td>LydiaMorley</td>\n",
              "      <td>http://steamcommunity.com/id/LydiaMorley</td>\n",
              "      <td></td>\n",
              "      <td>Posted July 2.</td>\n",
              "      <td></td>\n",
              "      <td>440</td>\n",
              "      <td>No ratings yet</td>\n",
              "      <td>True</td>\n",
              "      <td>so much fun :D</td>\n",
              "      <td>NaN</td>\n",
              "    </tr>\n",
              "  </tbody>\n",
              "</table>\n",
              "<p>59333 rows × 10 columns</p>\n",
              "</div>"
            ],
            "text/plain": [
              "                 user_id                                           user_url  \\\n",
              "0      76561197970982479  http://steamcommunity.com/profiles/76561197970...   \n",
              "1      76561197970982479  http://steamcommunity.com/profiles/76561197970...   \n",
              "2      76561197970982479  http://steamcommunity.com/profiles/76561197970...   \n",
              "3                js41637               http://steamcommunity.com/id/js41637   \n",
              "4                js41637               http://steamcommunity.com/id/js41637   \n",
              "...                  ...                                                ...   \n",
              "59328  76561198312638244  http://steamcommunity.com/profiles/76561198312...   \n",
              "59329  76561198312638244  http://steamcommunity.com/profiles/76561198312...   \n",
              "59330        LydiaMorley           http://steamcommunity.com/id/LydiaMorley   \n",
              "59331        LydiaMorley           http://steamcommunity.com/id/LydiaMorley   \n",
              "59332        LydiaMorley           http://steamcommunity.com/id/LydiaMorley   \n",
              "\n",
              "                                  funny                     posted  \\\n",
              "0                                         Posted November 5, 2011.   \n",
              "1                                            Posted July 15, 2011.   \n",
              "2                                           Posted April 21, 2011.   \n",
              "3                                            Posted June 24, 2014.   \n",
              "4                                        Posted September 8, 2013.   \n",
              "...                                 ...                        ...   \n",
              "59328                                              Posted July 10.   \n",
              "59329                                               Posted July 8.   \n",
              "59330  1 person found this review funny             Posted July 3.   \n",
              "59331                                              Posted July 20.   \n",
              "59332                                               Posted July 2.   \n",
              "\n",
              "      last_edited item_id                                          helpful  \\\n",
              "0                    1250                                   No ratings yet   \n",
              "1                   22200                                   No ratings yet   \n",
              "2                   43110                                   No ratings yet   \n",
              "3                  251610  15 of 20 people (75%) found this review helpful   \n",
              "4                  227300     0 of 1 people (0%) found this review helpful   \n",
              "...           ...     ...                                              ...   \n",
              "59328                  70                                   No ratings yet   \n",
              "59329              362890                                   No ratings yet   \n",
              "59330              273110    1 of 2 people (50%) found this review helpful   \n",
              "59331                 730                                   No ratings yet   \n",
              "59332                 440                                   No ratings yet   \n",
              "\n",
              "      recommend                                             review  year  \n",
              "0          True  Simple yet with great replayability. In my opi...  2011  \n",
              "1          True               It's unique and worth a playthrough.  2011  \n",
              "2          True  Great atmosphere. The gunplay can be a bit chu...  2011  \n",
              "3          True  I know what you think when you see this title ...  2014  \n",
              "4          True  For a simple (it's actually not all that simpl...  2013  \n",
              "...         ...                                                ...   ...  \n",
              "59328      True  a must have classic from steam definitely wort...   NaN  \n",
              "59329      True  this game is a perfect remake of the original ...   NaN  \n",
              "59330      True  had so much fun plaing this and collecting res...   NaN  \n",
              "59331      True                                                 :D   NaN  \n",
              "59332      True                                     so much fun :D   NaN  \n",
              "\n",
              "[59333 rows x 10 columns]"
            ]
          },
          "execution_count": 10,
          "metadata": {},
          "output_type": "execute_result"
        }
      ],
      "source": [
        "#Creacion de columna 'year' / Creating a 'year' column\n",
        "preprocess_reviews ['year'] = preprocess_reviews['posted'].str.extract('(\\d{4})', expand=False)\n",
        "preprocess_reviews"
      ]
    },
    {
      "cell_type": "code",
      "execution_count": 15,
      "metadata": {},
      "outputs": [
        {
          "data": {
            "text/plain": [
              "28"
            ]
          },
          "execution_count": 15,
          "metadata": {},
          "output_type": "execute_result"
        }
      ],
      "source": [
        "preprocess_reviews['recommend'].isna().sum()"
      ]
    },
    {
      "cell_type": "code",
      "execution_count": 19,
      "metadata": {
        "id": "4WdfLj4CR6Zj"
      },
      "outputs": [
        {
          "name": "stderr",
          "output_type": "stream",
          "text": [
            "C:\\Users\\AA\\AppData\\Local\\Temp\\ipykernel_19332\\3487835682.py:2: FutureWarning: Downcasting behavior in `replace` is deprecated and will be removed in a future version. To retain the old behavior, explicitly call `result.infer_objects(copy=False)`. To opt-in to the future behavior, set `pd.set_option('future.no_silent_downcasting', True)`\n",
            "  preprocess_reviews['recommend'] = preprocess_reviews['recommend'].replace({True: 1, False: 0}).astype(int)\n"
          ]
        },
        {
          "data": {
            "text/html": [
              "<div>\n",
              "<style scoped>\n",
              "    .dataframe tbody tr th:only-of-type {\n",
              "        vertical-align: middle;\n",
              "    }\n",
              "\n",
              "    .dataframe tbody tr th {\n",
              "        vertical-align: top;\n",
              "    }\n",
              "\n",
              "    .dataframe thead th {\n",
              "        text-align: right;\n",
              "    }\n",
              "</style>\n",
              "<table border=\"1\" class=\"dataframe\">\n",
              "  <thead>\n",
              "    <tr style=\"text-align: right;\">\n",
              "      <th></th>\n",
              "      <th>user_id</th>\n",
              "      <th>user_url</th>\n",
              "      <th>funny</th>\n",
              "      <th>posted</th>\n",
              "      <th>last_edited</th>\n",
              "      <th>item_id</th>\n",
              "      <th>helpful</th>\n",
              "      <th>recommend</th>\n",
              "      <th>review</th>\n",
              "      <th>year</th>\n",
              "    </tr>\n",
              "  </thead>\n",
              "  <tbody>\n",
              "    <tr>\n",
              "      <th>0</th>\n",
              "      <td>76561197970982479</td>\n",
              "      <td>http://steamcommunity.com/profiles/76561197970...</td>\n",
              "      <td></td>\n",
              "      <td>Posted November 5, 2011.</td>\n",
              "      <td></td>\n",
              "      <td>1250</td>\n",
              "      <td>No ratings yet</td>\n",
              "      <td>1</td>\n",
              "      <td>Simple yet with great replayability. In my opi...</td>\n",
              "      <td>2011</td>\n",
              "    </tr>\n",
              "    <tr>\n",
              "      <th>1</th>\n",
              "      <td>76561197970982479</td>\n",
              "      <td>http://steamcommunity.com/profiles/76561197970...</td>\n",
              "      <td></td>\n",
              "      <td>Posted July 15, 2011.</td>\n",
              "      <td></td>\n",
              "      <td>22200</td>\n",
              "      <td>No ratings yet</td>\n",
              "      <td>1</td>\n",
              "      <td>It's unique and worth a playthrough.</td>\n",
              "      <td>2011</td>\n",
              "    </tr>\n",
              "    <tr>\n",
              "      <th>2</th>\n",
              "      <td>76561197970982479</td>\n",
              "      <td>http://steamcommunity.com/profiles/76561197970...</td>\n",
              "      <td></td>\n",
              "      <td>Posted April 21, 2011.</td>\n",
              "      <td></td>\n",
              "      <td>43110</td>\n",
              "      <td>No ratings yet</td>\n",
              "      <td>1</td>\n",
              "      <td>Great atmosphere. The gunplay can be a bit chu...</td>\n",
              "      <td>2011</td>\n",
              "    </tr>\n",
              "    <tr>\n",
              "      <th>3</th>\n",
              "      <td>js41637</td>\n",
              "      <td>http://steamcommunity.com/id/js41637</td>\n",
              "      <td></td>\n",
              "      <td>Posted June 24, 2014.</td>\n",
              "      <td></td>\n",
              "      <td>251610</td>\n",
              "      <td>15 of 20 people (75%) found this review helpful</td>\n",
              "      <td>1</td>\n",
              "      <td>I know what you think when you see this title ...</td>\n",
              "      <td>2014</td>\n",
              "    </tr>\n",
              "    <tr>\n",
              "      <th>4</th>\n",
              "      <td>js41637</td>\n",
              "      <td>http://steamcommunity.com/id/js41637</td>\n",
              "      <td></td>\n",
              "      <td>Posted September 8, 2013.</td>\n",
              "      <td></td>\n",
              "      <td>227300</td>\n",
              "      <td>0 of 1 people (0%) found this review helpful</td>\n",
              "      <td>1</td>\n",
              "      <td>For a simple (it's actually not all that simpl...</td>\n",
              "      <td>2013</td>\n",
              "    </tr>\n",
              "    <tr>\n",
              "      <th>...</th>\n",
              "      <td>...</td>\n",
              "      <td>...</td>\n",
              "      <td>...</td>\n",
              "      <td>...</td>\n",
              "      <td>...</td>\n",
              "      <td>...</td>\n",
              "      <td>...</td>\n",
              "      <td>...</td>\n",
              "      <td>...</td>\n",
              "      <td>...</td>\n",
              "    </tr>\n",
              "    <tr>\n",
              "      <th>59280</th>\n",
              "      <td>wayfeng</td>\n",
              "      <td>http://steamcommunity.com/id/wayfeng</td>\n",
              "      <td>1 person found this review funny</td>\n",
              "      <td>Posted October 14, 2015.</td>\n",
              "      <td></td>\n",
              "      <td>730</td>\n",
              "      <td>1 of 1 people (100%) found this review helpful</td>\n",
              "      <td>1</td>\n",
              "      <td>its FUNNNNNNNN</td>\n",
              "      <td>2015</td>\n",
              "    </tr>\n",
              "    <tr>\n",
              "      <th>59283</th>\n",
              "      <td>76561198251004808</td>\n",
              "      <td>http://steamcommunity.com/profiles/76561198251...</td>\n",
              "      <td></td>\n",
              "      <td>Posted October 10, 2015.</td>\n",
              "      <td></td>\n",
              "      <td>253980</td>\n",
              "      <td>No ratings yet</td>\n",
              "      <td>1</td>\n",
              "      <td>Awesome fantasy game if you don't mind the gra...</td>\n",
              "      <td>2015</td>\n",
              "    </tr>\n",
              "    <tr>\n",
              "      <th>59293</th>\n",
              "      <td>72947282842</td>\n",
              "      <td>http://steamcommunity.com/id/72947282842</td>\n",
              "      <td></td>\n",
              "      <td>Posted October 31, 2015.</td>\n",
              "      <td></td>\n",
              "      <td>730</td>\n",
              "      <td>No ratings yet</td>\n",
              "      <td>1</td>\n",
              "      <td>Prettyy Mad Game</td>\n",
              "      <td>2015</td>\n",
              "    </tr>\n",
              "    <tr>\n",
              "      <th>59295</th>\n",
              "      <td>ApxLGhost</td>\n",
              "      <td>http://steamcommunity.com/id/ApxLGhost</td>\n",
              "      <td></td>\n",
              "      <td>Posted December 14, 2015.</td>\n",
              "      <td></td>\n",
              "      <td>730</td>\n",
              "      <td>No ratings yet</td>\n",
              "      <td>1</td>\n",
              "      <td>AMAZING GAME 10/10</td>\n",
              "      <td>2015</td>\n",
              "    </tr>\n",
              "    <tr>\n",
              "      <th>59304</th>\n",
              "      <td>76561198267374962</td>\n",
              "      <td>http://steamcommunity.com/profiles/76561198267...</td>\n",
              "      <td>1 person found this review funny</td>\n",
              "      <td>Posted December 29, 2015.</td>\n",
              "      <td></td>\n",
              "      <td>369200</td>\n",
              "      <td>1 of 2 people (50%) found this review helpful</td>\n",
              "      <td>1</td>\n",
              "      <td>Why I voted yes? 1. Girl characters have boobs...</td>\n",
              "      <td>2015</td>\n",
              "    </tr>\n",
              "  </tbody>\n",
              "</table>\n",
              "<p>49186 rows × 10 columns</p>\n",
              "</div>"
            ],
            "text/plain": [
              "                 user_id                                           user_url  \\\n",
              "0      76561197970982479  http://steamcommunity.com/profiles/76561197970...   \n",
              "1      76561197970982479  http://steamcommunity.com/profiles/76561197970...   \n",
              "2      76561197970982479  http://steamcommunity.com/profiles/76561197970...   \n",
              "3                js41637               http://steamcommunity.com/id/js41637   \n",
              "4                js41637               http://steamcommunity.com/id/js41637   \n",
              "...                  ...                                                ...   \n",
              "59280            wayfeng               http://steamcommunity.com/id/wayfeng   \n",
              "59283  76561198251004808  http://steamcommunity.com/profiles/76561198251...   \n",
              "59293        72947282842           http://steamcommunity.com/id/72947282842   \n",
              "59295          ApxLGhost             http://steamcommunity.com/id/ApxLGhost   \n",
              "59304  76561198267374962  http://steamcommunity.com/profiles/76561198267...   \n",
              "\n",
              "                                  funny                     posted  \\\n",
              "0                                         Posted November 5, 2011.   \n",
              "1                                            Posted July 15, 2011.   \n",
              "2                                           Posted April 21, 2011.   \n",
              "3                                            Posted June 24, 2014.   \n",
              "4                                        Posted September 8, 2013.   \n",
              "...                                 ...                        ...   \n",
              "59280  1 person found this review funny   Posted October 14, 2015.   \n",
              "59283                                     Posted October 10, 2015.   \n",
              "59293                                     Posted October 31, 2015.   \n",
              "59295                                    Posted December 14, 2015.   \n",
              "59304  1 person found this review funny  Posted December 29, 2015.   \n",
              "\n",
              "      last_edited item_id                                          helpful  \\\n",
              "0                    1250                                   No ratings yet   \n",
              "1                   22200                                   No ratings yet   \n",
              "2                   43110                                   No ratings yet   \n",
              "3                  251610  15 of 20 people (75%) found this review helpful   \n",
              "4                  227300     0 of 1 people (0%) found this review helpful   \n",
              "...           ...     ...                                              ...   \n",
              "59280                 730   1 of 1 people (100%) found this review helpful   \n",
              "59283              253980                                   No ratings yet   \n",
              "59293                 730                                   No ratings yet   \n",
              "59295                 730                                   No ratings yet   \n",
              "59304              369200    1 of 2 people (50%) found this review helpful   \n",
              "\n",
              "       recommend                                             review  year  \n",
              "0              1  Simple yet with great replayability. In my opi...  2011  \n",
              "1              1               It's unique and worth a playthrough.  2011  \n",
              "2              1  Great atmosphere. The gunplay can be a bit chu...  2011  \n",
              "3              1  I know what you think when you see this title ...  2014  \n",
              "4              1  For a simple (it's actually not all that simpl...  2013  \n",
              "...          ...                                                ...   ...  \n",
              "59280          1                                     its FUNNNNNNNN  2015  \n",
              "59283          1  Awesome fantasy game if you don't mind the gra...  2015  \n",
              "59293          1                                   Prettyy Mad Game  2015  \n",
              "59295          1                                 AMAZING GAME 10/10  2015  \n",
              "59304          1  Why I voted yes? 1. Girl characters have boobs...  2015  \n",
              "\n",
              "[49186 rows x 10 columns]"
            ]
          },
          "execution_count": 19,
          "metadata": {},
          "output_type": "execute_result"
        }
      ],
      "source": [
        "#Cambiamos los elementos de la columna recommend por unos mas faciles de procesar por el modelo /Replacing values in the \"recommend\" column with values easier for the model to process.\n",
        "preprocess_reviews['recommend'] = preprocess_reviews['recommend'].replace({True: 1, False: 0}).astype(int)\n",
        "preprocess_reviews"
      ]
    },
    {
      "cell_type": "markdown",
      "metadata": {
        "id": "69GMA-C-R6Zl"
      },
      "source": [
        "<h3 align=left> Analisis de sentimientos<sub>/Sentiment analyzer</sub></h3>"
      ]
    },
    {
      "cell_type": "code",
      "execution_count": 21,
      "metadata": {
        "id": "BEww86qcR6Zl"
      },
      "outputs": [
        {
          "name": "stderr",
          "output_type": "stream",
          "text": [
            "[nltk_data] Downloading package punkt to\n",
            "[nltk_data]     C:\\Users\\AA\\AppData\\Roaming\\nltk_data...\n",
            "[nltk_data]   Package punkt is already up-to-date!\n",
            "[nltk_data] Downloading package vader_lexicon to\n",
            "[nltk_data]     C:\\Users\\AA\\AppData\\Roaming\\nltk_data...\n",
            "[nltk_data]   Package vader_lexicon is already up-to-date!\n"
          ]
        },
        {
          "data": {
            "text/plain": [
              "True"
            ]
          },
          "execution_count": 21,
          "metadata": {},
          "output_type": "execute_result"
        }
      ],
      "source": [
        "nltk.download('punkt')\n",
        "nltk.download('vader_lexicon')"
      ]
    },
    {
      "cell_type": "code",
      "execution_count": 23,
      "metadata": {
        "id": "YnPD_440R6Zm"
      },
      "outputs": [
        {
          "data": {
            "text/html": [
              "<div>\n",
              "<style scoped>\n",
              "    .dataframe tbody tr th:only-of-type {\n",
              "        vertical-align: middle;\n",
              "    }\n",
              "\n",
              "    .dataframe tbody tr th {\n",
              "        vertical-align: top;\n",
              "    }\n",
              "\n",
              "    .dataframe thead th {\n",
              "        text-align: right;\n",
              "    }\n",
              "</style>\n",
              "<table border=\"1\" class=\"dataframe\">\n",
              "  <thead>\n",
              "    <tr style=\"text-align: right;\">\n",
              "      <th></th>\n",
              "      <th>user_id</th>\n",
              "      <th>user_url</th>\n",
              "      <th>funny</th>\n",
              "      <th>posted</th>\n",
              "      <th>last_edited</th>\n",
              "      <th>item_id</th>\n",
              "      <th>helpful</th>\n",
              "      <th>recommend</th>\n",
              "      <th>review</th>\n",
              "      <th>year</th>\n",
              "      <th>sentiment_analysis</th>\n",
              "    </tr>\n",
              "  </thead>\n",
              "  <tbody>\n",
              "    <tr>\n",
              "      <th>0</th>\n",
              "      <td>76561197970982479</td>\n",
              "      <td>http://steamcommunity.com/profiles/76561197970...</td>\n",
              "      <td></td>\n",
              "      <td>Posted November 5, 2011.</td>\n",
              "      <td></td>\n",
              "      <td>1250</td>\n",
              "      <td>No ratings yet</td>\n",
              "      <td>1</td>\n",
              "      <td>Simple yet with great replayability. In my opi...</td>\n",
              "      <td>2011</td>\n",
              "      <td>2</td>\n",
              "    </tr>\n",
              "    <tr>\n",
              "      <th>1</th>\n",
              "      <td>76561197970982479</td>\n",
              "      <td>http://steamcommunity.com/profiles/76561197970...</td>\n",
              "      <td></td>\n",
              "      <td>Posted July 15, 2011.</td>\n",
              "      <td></td>\n",
              "      <td>22200</td>\n",
              "      <td>No ratings yet</td>\n",
              "      <td>1</td>\n",
              "      <td>It's unique and worth a playthrough.</td>\n",
              "      <td>2011</td>\n",
              "      <td>2</td>\n",
              "    </tr>\n",
              "    <tr>\n",
              "      <th>2</th>\n",
              "      <td>76561197970982479</td>\n",
              "      <td>http://steamcommunity.com/profiles/76561197970...</td>\n",
              "      <td></td>\n",
              "      <td>Posted April 21, 2011.</td>\n",
              "      <td></td>\n",
              "      <td>43110</td>\n",
              "      <td>No ratings yet</td>\n",
              "      <td>1</td>\n",
              "      <td>Great atmosphere. The gunplay can be a bit chu...</td>\n",
              "      <td>2011</td>\n",
              "      <td>2</td>\n",
              "    </tr>\n",
              "    <tr>\n",
              "      <th>3</th>\n",
              "      <td>js41637</td>\n",
              "      <td>http://steamcommunity.com/id/js41637</td>\n",
              "      <td></td>\n",
              "      <td>Posted June 24, 2014.</td>\n",
              "      <td></td>\n",
              "      <td>251610</td>\n",
              "      <td>15 of 20 people (75%) found this review helpful</td>\n",
              "      <td>1</td>\n",
              "      <td>I know what you think when you see this title ...</td>\n",
              "      <td>2014</td>\n",
              "      <td>2</td>\n",
              "    </tr>\n",
              "    <tr>\n",
              "      <th>4</th>\n",
              "      <td>js41637</td>\n",
              "      <td>http://steamcommunity.com/id/js41637</td>\n",
              "      <td></td>\n",
              "      <td>Posted September 8, 2013.</td>\n",
              "      <td></td>\n",
              "      <td>227300</td>\n",
              "      <td>0 of 1 people (0%) found this review helpful</td>\n",
              "      <td>1</td>\n",
              "      <td>For a simple (it's actually not all that simpl...</td>\n",
              "      <td>2013</td>\n",
              "      <td>2</td>\n",
              "    </tr>\n",
              "    <tr>\n",
              "      <th>...</th>\n",
              "      <td>...</td>\n",
              "      <td>...</td>\n",
              "      <td>...</td>\n",
              "      <td>...</td>\n",
              "      <td>...</td>\n",
              "      <td>...</td>\n",
              "      <td>...</td>\n",
              "      <td>...</td>\n",
              "      <td>...</td>\n",
              "      <td>...</td>\n",
              "      <td>...</td>\n",
              "    </tr>\n",
              "    <tr>\n",
              "      <th>59280</th>\n",
              "      <td>wayfeng</td>\n",
              "      <td>http://steamcommunity.com/id/wayfeng</td>\n",
              "      <td>1 person found this review funny</td>\n",
              "      <td>Posted October 14, 2015.</td>\n",
              "      <td></td>\n",
              "      <td>730</td>\n",
              "      <td>1 of 1 people (100%) found this review helpful</td>\n",
              "      <td>1</td>\n",
              "      <td>its FUNNNNNNNN</td>\n",
              "      <td>2015</td>\n",
              "      <td>1</td>\n",
              "    </tr>\n",
              "    <tr>\n",
              "      <th>59283</th>\n",
              "      <td>76561198251004808</td>\n",
              "      <td>http://steamcommunity.com/profiles/76561198251...</td>\n",
              "      <td></td>\n",
              "      <td>Posted October 10, 2015.</td>\n",
              "      <td></td>\n",
              "      <td>253980</td>\n",
              "      <td>No ratings yet</td>\n",
              "      <td>1</td>\n",
              "      <td>Awesome fantasy game if you don't mind the gra...</td>\n",
              "      <td>2015</td>\n",
              "      <td>2</td>\n",
              "    </tr>\n",
              "    <tr>\n",
              "      <th>59293</th>\n",
              "      <td>72947282842</td>\n",
              "      <td>http://steamcommunity.com/id/72947282842</td>\n",
              "      <td></td>\n",
              "      <td>Posted October 31, 2015.</td>\n",
              "      <td></td>\n",
              "      <td>730</td>\n",
              "      <td>No ratings yet</td>\n",
              "      <td>1</td>\n",
              "      <td>Prettyy Mad Game</td>\n",
              "      <td>2015</td>\n",
              "      <td>0</td>\n",
              "    </tr>\n",
              "    <tr>\n",
              "      <th>59295</th>\n",
              "      <td>ApxLGhost</td>\n",
              "      <td>http://steamcommunity.com/id/ApxLGhost</td>\n",
              "      <td></td>\n",
              "      <td>Posted December 14, 2015.</td>\n",
              "      <td></td>\n",
              "      <td>730</td>\n",
              "      <td>No ratings yet</td>\n",
              "      <td>1</td>\n",
              "      <td>AMAZING GAME 10/10</td>\n",
              "      <td>2015</td>\n",
              "      <td>2</td>\n",
              "    </tr>\n",
              "    <tr>\n",
              "      <th>59304</th>\n",
              "      <td>76561198267374962</td>\n",
              "      <td>http://steamcommunity.com/profiles/76561198267...</td>\n",
              "      <td>1 person found this review funny</td>\n",
              "      <td>Posted December 29, 2015.</td>\n",
              "      <td></td>\n",
              "      <td>369200</td>\n",
              "      <td>1 of 2 people (50%) found this review helpful</td>\n",
              "      <td>1</td>\n",
              "      <td>Why I voted yes? 1. Girl characters have boobs...</td>\n",
              "      <td>2015</td>\n",
              "      <td>2</td>\n",
              "    </tr>\n",
              "  </tbody>\n",
              "</table>\n",
              "<p>49186 rows × 11 columns</p>\n",
              "</div>"
            ],
            "text/plain": [
              "                 user_id                                           user_url  \\\n",
              "0      76561197970982479  http://steamcommunity.com/profiles/76561197970...   \n",
              "1      76561197970982479  http://steamcommunity.com/profiles/76561197970...   \n",
              "2      76561197970982479  http://steamcommunity.com/profiles/76561197970...   \n",
              "3                js41637               http://steamcommunity.com/id/js41637   \n",
              "4                js41637               http://steamcommunity.com/id/js41637   \n",
              "...                  ...                                                ...   \n",
              "59280            wayfeng               http://steamcommunity.com/id/wayfeng   \n",
              "59283  76561198251004808  http://steamcommunity.com/profiles/76561198251...   \n",
              "59293        72947282842           http://steamcommunity.com/id/72947282842   \n",
              "59295          ApxLGhost             http://steamcommunity.com/id/ApxLGhost   \n",
              "59304  76561198267374962  http://steamcommunity.com/profiles/76561198267...   \n",
              "\n",
              "                                  funny                     posted  \\\n",
              "0                                         Posted November 5, 2011.   \n",
              "1                                            Posted July 15, 2011.   \n",
              "2                                           Posted April 21, 2011.   \n",
              "3                                            Posted June 24, 2014.   \n",
              "4                                        Posted September 8, 2013.   \n",
              "...                                 ...                        ...   \n",
              "59280  1 person found this review funny   Posted October 14, 2015.   \n",
              "59283                                     Posted October 10, 2015.   \n",
              "59293                                     Posted October 31, 2015.   \n",
              "59295                                    Posted December 14, 2015.   \n",
              "59304  1 person found this review funny  Posted December 29, 2015.   \n",
              "\n",
              "      last_edited item_id                                          helpful  \\\n",
              "0                    1250                                   No ratings yet   \n",
              "1                   22200                                   No ratings yet   \n",
              "2                   43110                                   No ratings yet   \n",
              "3                  251610  15 of 20 people (75%) found this review helpful   \n",
              "4                  227300     0 of 1 people (0%) found this review helpful   \n",
              "...           ...     ...                                              ...   \n",
              "59280                 730   1 of 1 people (100%) found this review helpful   \n",
              "59283              253980                                   No ratings yet   \n",
              "59293                 730                                   No ratings yet   \n",
              "59295                 730                                   No ratings yet   \n",
              "59304              369200    1 of 2 people (50%) found this review helpful   \n",
              "\n",
              "       recommend                                             review  year  \\\n",
              "0              1  Simple yet with great replayability. In my opi...  2011   \n",
              "1              1               It's unique and worth a playthrough.  2011   \n",
              "2              1  Great atmosphere. The gunplay can be a bit chu...  2011   \n",
              "3              1  I know what you think when you see this title ...  2014   \n",
              "4              1  For a simple (it's actually not all that simpl...  2013   \n",
              "...          ...                                                ...   ...   \n",
              "59280          1                                     its FUNNNNNNNN  2015   \n",
              "59283          1  Awesome fantasy game if you don't mind the gra...  2015   \n",
              "59293          1                                   Prettyy Mad Game  2015   \n",
              "59295          1                                 AMAZING GAME 10/10  2015   \n",
              "59304          1  Why I voted yes? 1. Girl characters have boobs...  2015   \n",
              "\n",
              "       sentiment_analysis  \n",
              "0                       2  \n",
              "1                       2  \n",
              "2                       2  \n",
              "3                       2  \n",
              "4                       2  \n",
              "...                   ...  \n",
              "59280                   1  \n",
              "59283                   2  \n",
              "59293                   0  \n",
              "59295                   2  \n",
              "59304                   2  \n",
              "\n",
              "[49186 rows x 11 columns]"
            ]
          },
          "execution_count": 23,
          "metadata": {},
          "output_type": "execute_result"
        }
      ],
      "source": [
        "preprocess_reviews['sentiment_analysis'] = preprocess_reviews['review'].apply(analyzer)\n",
        "preprocess_reviews"
      ]
    },
    {
      "cell_type": "markdown",
      "metadata": {
        "id": "VIw95YEvR6Zo"
      },
      "source": [
        "<h4>Eliminacion de columnas no necesarias para el analisis<sub>/Removing columns not needed for analysis.</sub></h4>"
      ]
    },
    {
      "cell_type": "code",
      "execution_count": 5,
      "metadata": {
        "id": "vMvRstumR6Zp"
      },
      "outputs": [
        {
          "data": {
            "text/html": [
              "<div>\n",
              "<style scoped>\n",
              "    .dataframe tbody tr th:only-of-type {\n",
              "        vertical-align: middle;\n",
              "    }\n",
              "\n",
              "    .dataframe tbody tr th {\n",
              "        vertical-align: top;\n",
              "    }\n",
              "\n",
              "    .dataframe thead th {\n",
              "        text-align: right;\n",
              "    }\n",
              "</style>\n",
              "<table border=\"1\" class=\"dataframe\">\n",
              "  <thead>\n",
              "    <tr style=\"text-align: right;\">\n",
              "      <th></th>\n",
              "      <th>user_id</th>\n",
              "      <th>item_id</th>\n",
              "      <th>recommend</th>\n",
              "      <th>year</th>\n",
              "      <th>sentiment_analysis</th>\n",
              "    </tr>\n",
              "  </thead>\n",
              "  <tbody>\n",
              "    <tr>\n",
              "      <th>0</th>\n",
              "      <td>76561197970982479</td>\n",
              "      <td>1250</td>\n",
              "      <td>1</td>\n",
              "      <td>2011</td>\n",
              "      <td>2</td>\n",
              "    </tr>\n",
              "    <tr>\n",
              "      <th>1</th>\n",
              "      <td>76561197970982479</td>\n",
              "      <td>22200</td>\n",
              "      <td>1</td>\n",
              "      <td>2011</td>\n",
              "      <td>2</td>\n",
              "    </tr>\n",
              "    <tr>\n",
              "      <th>2</th>\n",
              "      <td>76561197970982479</td>\n",
              "      <td>43110</td>\n",
              "      <td>1</td>\n",
              "      <td>2011</td>\n",
              "      <td>2</td>\n",
              "    </tr>\n",
              "    <tr>\n",
              "      <th>3</th>\n",
              "      <td>js41637</td>\n",
              "      <td>251610</td>\n",
              "      <td>1</td>\n",
              "      <td>2014</td>\n",
              "      <td>2</td>\n",
              "    </tr>\n",
              "    <tr>\n",
              "      <th>4</th>\n",
              "      <td>js41637</td>\n",
              "      <td>227300</td>\n",
              "      <td>1</td>\n",
              "      <td>2013</td>\n",
              "      <td>2</td>\n",
              "    </tr>\n",
              "    <tr>\n",
              "      <th>...</th>\n",
              "      <td>...</td>\n",
              "      <td>...</td>\n",
              "      <td>...</td>\n",
              "      <td>...</td>\n",
              "      <td>...</td>\n",
              "    </tr>\n",
              "    <tr>\n",
              "      <th>59280</th>\n",
              "      <td>wayfeng</td>\n",
              "      <td>730</td>\n",
              "      <td>1</td>\n",
              "      <td>2015</td>\n",
              "      <td>1</td>\n",
              "    </tr>\n",
              "    <tr>\n",
              "      <th>59283</th>\n",
              "      <td>76561198251004808</td>\n",
              "      <td>253980</td>\n",
              "      <td>1</td>\n",
              "      <td>2015</td>\n",
              "      <td>2</td>\n",
              "    </tr>\n",
              "    <tr>\n",
              "      <th>59293</th>\n",
              "      <td>72947282842</td>\n",
              "      <td>730</td>\n",
              "      <td>1</td>\n",
              "      <td>2015</td>\n",
              "      <td>0</td>\n",
              "    </tr>\n",
              "    <tr>\n",
              "      <th>59295</th>\n",
              "      <td>ApxLGhost</td>\n",
              "      <td>730</td>\n",
              "      <td>1</td>\n",
              "      <td>2015</td>\n",
              "      <td>2</td>\n",
              "    </tr>\n",
              "    <tr>\n",
              "      <th>59304</th>\n",
              "      <td>76561198267374962</td>\n",
              "      <td>369200</td>\n",
              "      <td>1</td>\n",
              "      <td>2015</td>\n",
              "      <td>2</td>\n",
              "    </tr>\n",
              "  </tbody>\n",
              "</table>\n",
              "<p>49186 rows × 5 columns</p>\n",
              "</div>"
            ],
            "text/plain": [
              "                 user_id item_id  recommend  year  sentiment_analysis\n",
              "0      76561197970982479    1250          1  2011                   2\n",
              "1      76561197970982479   22200          1  2011                   2\n",
              "2      76561197970982479   43110          1  2011                   2\n",
              "3                js41637  251610          1  2014                   2\n",
              "4                js41637  227300          1  2013                   2\n",
              "...                  ...     ...        ...   ...                 ...\n",
              "59280            wayfeng     730          1  2015                   1\n",
              "59283  76561198251004808  253980          1  2015                   2\n",
              "59293        72947282842     730          1  2015                   0\n",
              "59295          ApxLGhost     730          1  2015                   2\n",
              "59304  76561198267374962  369200          1  2015                   2\n",
              "\n",
              "[49186 rows x 5 columns]"
            ]
          },
          "execution_count": 5,
          "metadata": {},
          "output_type": "execute_result"
        }
      ],
      "source": [
        "processed_reviews = preprocess_reviews.drop(['user_url','last_edited','funny','helpful','posted','review'], axis = 1)\n",
        "processed_reviews"
      ]
    },
    {
      "cell_type": "code",
      "execution_count": 6,
      "metadata": {
        "id": "a_ZdJlgoR6Zp"
      },
      "outputs": [
        {
          "ename": "NameError",
          "evalue": "name 'preprocess_items' is not defined",
          "output_type": "error",
          "traceback": [
            "\u001b[1;31m---------------------------------------------------------------------------\u001b[0m",
            "\u001b[1;31mNameError\u001b[0m                                 Traceback (most recent call last)",
            "Cell \u001b[1;32mIn[6], line 1\u001b[0m\n\u001b[1;32m----> 1\u001b[0m processed_items \u001b[38;5;241m=\u001b[39m \u001b[43mpreprocess_items\u001b[49m\u001b[38;5;241m.\u001b[39mdrop([\u001b[38;5;124m'\u001b[39m\u001b[38;5;124mitems_count\u001b[39m\u001b[38;5;124m'\u001b[39m,\u001b[38;5;124m'\u001b[39m\u001b[38;5;124muser_url\u001b[39m\u001b[38;5;124m'\u001b[39m,\u001b[38;5;124m'\u001b[39m\u001b[38;5;124mplaytime_2weeks\u001b[39m\u001b[38;5;124m'\u001b[39m], axis \u001b[38;5;241m=\u001b[39m \u001b[38;5;241m1\u001b[39m)\n\u001b[0;32m      2\u001b[0m processed_items\n",
            "\u001b[1;31mNameError\u001b[0m: name 'preprocess_items' is not defined"
          ]
        }
      ],
      "source": [
        "processed_items = preprocess_items.drop(['items_count','user_url','playtime_2weeks'], axis = 1)\n",
        "processed_items"
      ]
    },
    {
      "cell_type": "markdown",
      "metadata": {
        "id": "zuRPc0CTq8sV"
      },
      "source": [
        "<h2 align=Center> Carga de datos<sub>/Data load</sub></h2>"
      ]
    },
    {
      "cell_type": "markdown",
      "metadata": {
        "id": "c7WYFsF2R6ZI"
      },
      "source": [
        "<h4>Convercion de archivos Json a parquet<sub>/Converting JSON files to Parquet format<sub></h4>"
      ]
    },
    {
      "cell_type": "code",
      "execution_count": 49,
      "metadata": {
        "id": "ivbd9hCJrcp7"
      },
      "outputs": [],
      "source": [
        "processed_items = processed_items.to_parquet('items.parquet')\n"
      ]
    },
    {
      "cell_type": "code",
      "execution_count": 7,
      "metadata": {
        "id": "YLJywnQItha0"
      },
      "outputs": [],
      "source": [
        "processed_reviews = processed_reviews.to_parquet('reviews.parquet')\n"
      ]
    }
  ],
  "metadata": {
    "colab": {
      "provenance": []
    },
    "kernelspec": {
      "display_name": "Python 3",
      "language": "python",
      "name": "python3"
    },
    "language_info": {
      "codemirror_mode": {
        "name": "ipython",
        "version": 3
      },
      "file_extension": ".py",
      "mimetype": "text/x-python",
      "name": "python",
      "nbconvert_exporter": "python",
      "pygments_lexer": "ipython3",
      "version": "3.11.9"
    }
  },
  "nbformat": 4,
  "nbformat_minor": 0
}
