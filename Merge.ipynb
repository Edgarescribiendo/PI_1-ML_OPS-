{
 "cells": [
  {
   "cell_type": "markdown",
   "metadata": {},
   "source": [
    "<h1 align = center>Union de data/Merge</h1>"
   ]
  },
  {
   "cell_type": "code",
   "execution_count": 1,
   "metadata": {},
   "outputs": [],
   "source": [
    "import pandas as pd"
   ]
  },
  {
   "cell_type": "code",
   "execution_count": 2,
   "metadata": {},
   "outputs": [],
   "source": [
    "games_data = pd.read_parquet('games.parquet')\n",
    "items_data = pd.read_parquet('items.parquet')\n",
    "reviews_data= pd.read_parquet('reviews.parquet')"
   ]
  },
  {
   "cell_type": "markdown",
   "metadata": {},
   "source": [
    "<h2  align = center>Preparacion para la union de los dataframe <sub>/ Data preparation for merging DataFrames<sub></h2>"
   ]
  },
  {
   "cell_type": "markdown",
   "metadata": {},
   "source": [
    "<h3  align = left> Dataframe item </h3>"
   ]
  },
  {
   "cell_type": "code",
   "execution_count": 3,
   "metadata": {},
   "outputs": [],
   "source": [
    "# Columnas de importancia de la data de items / Important columns in item data\n",
    "items_data = items_data[['user_id','item_id','playtime_forever']]\n",
    "\n",
    "# Creacion de id único para la data de items / Creating unique Id's for item data\n",
    "items_data['item_id'] = items_data['item_id'].astype(str)\n",
    "items_data['id'] = items_data['user_id'] + items_data['item_id']"
   ]
  },
  {
   "cell_type": "markdown",
   "metadata": {},
   "source": [
    "<h3  align = left> Dataframe reviews </h3>"
   ]
  },
  {
   "cell_type": "code",
   "execution_count": 4,
   "metadata": {},
   "outputs": [],
   "source": [
    "# Cambio de tipo de dato a la columna 'item_id' del DataFrame 'games_data' / \"Changing the data type of the 'item_id' column in the 'games_data' DataFrame\n",
    "games_data['item_id'] = games_data['item_id'].astype(str)\n",
    "\n",
    "# generar un identificador único en el DataFrame 'user_reviews_data'\n",
    "reviews_data['item_id'] = reviews_data['item_id'].astype(str)\n",
    "reviews_data['id'] = reviews_data['user_id'] + reviews_data['item_id']"
   ]
  },
  {
   "cell_type": "code",
   "execution_count": 66,
   "metadata": {},
   "outputs": [
    {
     "data": {
      "text/html": [
       "<div>\n",
       "<style scoped>\n",
       "    .dataframe tbody tr th:only-of-type {\n",
       "        vertical-align: middle;\n",
       "    }\n",
       "\n",
       "    .dataframe tbody tr th {\n",
       "        vertical-align: top;\n",
       "    }\n",
       "\n",
       "    .dataframe thead th {\n",
       "        text-align: right;\n",
       "    }\n",
       "</style>\n",
       "<table border=\"1\" class=\"dataframe\">\n",
       "  <thead>\n",
       "    <tr style=\"text-align: right;\">\n",
       "      <th></th>\n",
       "      <th>user_id</th>\n",
       "      <th>item_id</th>\n",
       "      <th>recommend</th>\n",
       "      <th>year</th>\n",
       "      <th>sentiment_analysis</th>\n",
       "      <th>id</th>\n",
       "    </tr>\n",
       "  </thead>\n",
       "  <tbody>\n",
       "    <tr>\n",
       "      <th>0</th>\n",
       "      <td>76561197970982479</td>\n",
       "      <td>1250</td>\n",
       "      <td>1</td>\n",
       "      <td>2011</td>\n",
       "      <td>2</td>\n",
       "      <td>765611979709824791250</td>\n",
       "    </tr>\n",
       "    <tr>\n",
       "      <th>1</th>\n",
       "      <td>76561197970982479</td>\n",
       "      <td>22200</td>\n",
       "      <td>1</td>\n",
       "      <td>2011</td>\n",
       "      <td>2</td>\n",
       "      <td>7656119797098247922200</td>\n",
       "    </tr>\n",
       "    <tr>\n",
       "      <th>2</th>\n",
       "      <td>76561197970982479</td>\n",
       "      <td>43110</td>\n",
       "      <td>1</td>\n",
       "      <td>2011</td>\n",
       "      <td>2</td>\n",
       "      <td>7656119797098247943110</td>\n",
       "    </tr>\n",
       "    <tr>\n",
       "      <th>3</th>\n",
       "      <td>js41637</td>\n",
       "      <td>251610</td>\n",
       "      <td>1</td>\n",
       "      <td>2014</td>\n",
       "      <td>2</td>\n",
       "      <td>js41637251610</td>\n",
       "    </tr>\n",
       "    <tr>\n",
       "      <th>4</th>\n",
       "      <td>js41637</td>\n",
       "      <td>227300</td>\n",
       "      <td>1</td>\n",
       "      <td>2013</td>\n",
       "      <td>2</td>\n",
       "      <td>js41637227300</td>\n",
       "    </tr>\n",
       "    <tr>\n",
       "      <th>...</th>\n",
       "      <td>...</td>\n",
       "      <td>...</td>\n",
       "      <td>...</td>\n",
       "      <td>...</td>\n",
       "      <td>...</td>\n",
       "      <td>...</td>\n",
       "    </tr>\n",
       "    <tr>\n",
       "      <th>59280</th>\n",
       "      <td>wayfeng</td>\n",
       "      <td>730</td>\n",
       "      <td>1</td>\n",
       "      <td>2015</td>\n",
       "      <td>1</td>\n",
       "      <td>wayfeng730</td>\n",
       "    </tr>\n",
       "    <tr>\n",
       "      <th>59283</th>\n",
       "      <td>76561198251004808</td>\n",
       "      <td>253980</td>\n",
       "      <td>1</td>\n",
       "      <td>2015</td>\n",
       "      <td>2</td>\n",
       "      <td>76561198251004808253980</td>\n",
       "    </tr>\n",
       "    <tr>\n",
       "      <th>59293</th>\n",
       "      <td>72947282842</td>\n",
       "      <td>730</td>\n",
       "      <td>1</td>\n",
       "      <td>2015</td>\n",
       "      <td>0</td>\n",
       "      <td>72947282842730</td>\n",
       "    </tr>\n",
       "    <tr>\n",
       "      <th>59295</th>\n",
       "      <td>ApxLGhost</td>\n",
       "      <td>730</td>\n",
       "      <td>1</td>\n",
       "      <td>2015</td>\n",
       "      <td>2</td>\n",
       "      <td>ApxLGhost730</td>\n",
       "    </tr>\n",
       "    <tr>\n",
       "      <th>59304</th>\n",
       "      <td>76561198267374962</td>\n",
       "      <td>369200</td>\n",
       "      <td>1</td>\n",
       "      <td>2015</td>\n",
       "      <td>2</td>\n",
       "      <td>76561198267374962369200</td>\n",
       "    </tr>\n",
       "  </tbody>\n",
       "</table>\n",
       "<p>49186 rows × 6 columns</p>\n",
       "</div>"
      ],
      "text/plain": [
       "                 user_id item_id  recommend  year  sentiment_analysis  \\\n",
       "0      76561197970982479    1250          1  2011                   2   \n",
       "1      76561197970982479   22200          1  2011                   2   \n",
       "2      76561197970982479   43110          1  2011                   2   \n",
       "3                js41637  251610          1  2014                   2   \n",
       "4                js41637  227300          1  2013                   2   \n",
       "...                  ...     ...        ...   ...                 ...   \n",
       "59280            wayfeng     730          1  2015                   1   \n",
       "59283  76561198251004808  253980          1  2015                   2   \n",
       "59293        72947282842     730          1  2015                   0   \n",
       "59295          ApxLGhost     730          1  2015                   2   \n",
       "59304  76561198267374962  369200          1  2015                   2   \n",
       "\n",
       "                            id  \n",
       "0        765611979709824791250  \n",
       "1       7656119797098247922200  \n",
       "2       7656119797098247943110  \n",
       "3                js41637251610  \n",
       "4                js41637227300  \n",
       "...                        ...  \n",
       "59280               wayfeng730  \n",
       "59283  76561198251004808253980  \n",
       "59293           72947282842730  \n",
       "59295             ApxLGhost730  \n",
       "59304  76561198267374962369200  \n",
       "\n",
       "[49186 rows x 6 columns]"
      ]
     },
     "execution_count": 66,
     "metadata": {},
     "output_type": "execute_result"
    }
   ],
   "source": [
    "reviews_data"
   ]
  },
  {
   "cell_type": "markdown",
   "metadata": {},
   "source": [
    "<h3  align = left> Union <sub>/ Merge </h3>"
   ]
  },
  {
   "cell_type": "code",
   "execution_count": 5,
   "metadata": {},
   "outputs": [],
   "source": [
    "# Union de dataframes reviews_data y games_data por el 'item_id' y eliminacion de nulos / \"Merging dataframes reviews_data and games_data on 'item_id' and removing null values\n",
    "merged_df = reviews_data.merge(games_data, on='item_id', how='left')\n",
    "merged_df.dropna(inplace=True)\n",
    "\n",
    "# Generar dataframe unico uniendo 'items_data' con 'merge_df' por el identificador unico 'id' de nombre 'steam_data' / Generar dataframe unico uniendo 'items_data' con 'merge_df' por el identificador unico 'id' de nombre 'steam_data'\n",
    "steam_data = items_data.merge(merged_df, on = 'id')\n",
    "\n",
    "# Renombrando columnas del dataframe 'steam_data' / renaming columns in the 'steam_data' dataframe\n",
    "steam_data = steam_data.rename(columns={'user_id_x':'user_id'})\n",
    "steam_data = steam_data.rename(columns={'item_id_x':'item_id'})\n",
    "\n",
    "# Eliminando columnas redundantes del dataframe 'steam_data' / Removing redundant columns from the 'steam_data' dataframe\n",
    "steam_data.drop('user_id_y', axis='columns', inplace=True)\n",
    "steam_data.drop('item_id_y', axis='columns', inplace=True)\n",
    "\n",
    "# Cambio de tipos de datos de algunas columnas / Changing data types of some columns\n",
    "steam_data['release_year'] = steam_data['release_year'].astype(int)\n",
    "steam_data['year'] = steam_data['year'].astype(int)\n",
    "steam_data['playtime_forever'] = steam_data['playtime_forever'].astype(int)\n",
    "\n",
    "# Seleccionando columnas definitivas para el analisis / Selecting definitive columns for analysis\n",
    "steam_data = steam_data[['id','user_id','item_id','title','genre','developer','release_year','price','recommend','year','sentiment_analysis','playtime_forever']]"
   ]
  },
  {
   "cell_type": "markdown",
   "metadata": {},
   "source": [
    "<h4>Convercion de archivos a parquet<sub>/Converting files to Parquet format<sub></h4>"
   ]
  },
  {
   "cell_type": "code",
   "execution_count": 6,
   "metadata": {},
   "outputs": [],
   "source": [
    "# Exportando archivo separado por comas de nombre 'data_steam' / exporting a comma-separated file named 'data_steam\n",
    "steam_data.to_parquet('data_steam.parquet', index=False)"
   ]
  }
 ],
 "metadata": {
  "kernelspec": {
   "display_name": "my_env",
   "language": "python",
   "name": "python3"
  },
  "language_info": {
   "codemirror_mode": {
    "name": "ipython",
    "version": 3
   },
   "file_extension": ".py",
   "mimetype": "text/x-python",
   "name": "python",
   "nbconvert_exporter": "python",
   "pygments_lexer": "ipython3",
   "version": "3.11.9"
  }
 },
 "nbformat": 4,
 "nbformat_minor": 2
}
