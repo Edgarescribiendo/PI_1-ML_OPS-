{
 "cells": [
  {
   "cell_type": "markdown",
   "metadata": {},
   "source": [
    "<h1 align=center> Proceso de ML <sub align=center> (ML PROCESS)</sub></h1>"
   ]
  },
  {
   "cell_type": "markdown",
   "metadata": {},
   "source": [
    "<h3 align=left> Instalacion de librerias<sub>/Library installation</sub> </h3>"
   ]
  },
  {
   "cell_type": "code",
   "execution_count": null,
   "metadata": {},
   "outputs": [],
   "source": [
    "pip install -r requirements.txt"
   ]
  },
  {
   "cell_type": "markdown",
   "metadata": {},
   "source": [
    "<h3 align=left> Importacion de librerias<sub>/Library Importing</sub> </h3>"
   ]
  },
  {
   "cell_type": "code",
   "execution_count": 47,
   "metadata": {},
   "outputs": [],
   "source": [
    "import pandas as pd \n",
    "from sklearn.feature_extraction.text import TfidfVectorizer\n",
    "from sklearn.metrics.pairwise import cosine_similarity\n",
    "from sklearn.model_selection import train_test_split\n",
    "from sklearn.ensemble import RandomForestClassifier\n",
    "from sklearn.metrics import accuracy_score\n"
   ]
  },
  {
   "cell_type": "code",
   "execution_count": 65,
   "metadata": {},
   "outputs": [],
   "source": [
    "data = pd.read_parquet('../data_steam.parquet')\n",
    "data_steam_games = data.copy()\n",
    "steam = data.copy()"
   ]
  },
  {
   "cell_type": "code",
   "execution_count": 49,
   "metadata": {},
   "outputs": [],
   "source": [
    "data_steam_games.drop(['id','user_id','developer','genre','year','sentiment_analysis','recommend','price','playtime_forever','release_year'],axis=1,inplace=True)\n",
    "data.drop(['id','user_id','genre','year','sentiment_analysis','recommend','price','playtime_forever'],axis=1,inplace=True)"
   ]
  },
  {
   "cell_type": "code",
   "execution_count": 13,
   "metadata": {},
   "outputs": [
    {
     "name": "stdout",
     "output_type": "stream",
     "text": [
      "<class 'pandas.core.frame.DataFrame'>\n",
      "RangeIndex: 32605 entries, 0 to 32604\n",
      "Data columns (total 4 columns):\n",
      " #   Column        Non-Null Count  Dtype \n",
      "---  ------        --------------  ----- \n",
      " 0   item_id       32605 non-null  object\n",
      " 1   title         32605 non-null  object\n",
      " 2   developer     32605 non-null  object\n",
      " 3   release_year  32605 non-null  int32 \n",
      "dtypes: int32(1), object(3)\n",
      "memory usage: 891.7+ KB\n"
     ]
    }
   ],
   "source": [
    "data.info()"
   ]
  },
  {
   "cell_type": "code",
   "execution_count": 15,
   "metadata": {},
   "outputs": [
    {
     "name": "stdout",
     "output_type": "stream",
     "text": [
      "<class 'pandas.core.frame.DataFrame'>\n",
      "RangeIndex: 32605 entries, 0 to 32604\n",
      "Data columns (total 2 columns):\n",
      " #   Column   Non-Null Count  Dtype \n",
      "---  ------   --------------  ----- \n",
      " 0   item_id  32605 non-null  object\n",
      " 1   title    32605 non-null  object\n",
      "dtypes: object(2)\n",
      "memory usage: 509.6+ KB\n"
     ]
    }
   ],
   "source": [
    "data_steam_games.info()"
   ]
  },
  {
   "cell_type": "code",
   "execution_count": 50,
   "metadata": {},
   "outputs": [],
   "source": [
    "data['item_id'] = data['item_id'].astype(str)\n",
    "data['release_year'] = data['release_year'].astype(str)\n",
    "\n",
    "# borrando duplicados\n",
    "data = data.drop_duplicates(subset='item_id', keep='first')\n",
    "data_steam_juegos = data_steam_games.drop_duplicates(subset='item_id', keep='first')\n",
    "\n",
    "# Combinar los valores de las columnas en una sola columna\n",
    "data['specs'] = data[[\"title\", \"developer\", \"release_year\"]].apply(lambda x: \", \".join(x), axis=1)\n",
    "data.drop(['title','developer','release_year'],axis=1,inplace=True)\n"
   ]
  },
  {
   "cell_type": "markdown",
   "metadata": {},
   "source": [
    "Conversion a parquet"
   ]
  },
  {
   "cell_type": "code",
   "execution_count": 51,
   "metadata": {},
   "outputs": [],
   "source": [
    "data.to_parquet('steam_games.parquet', index=False)\n",
    "data_steam_games.to_parquet('steam_id.parquet', index=False)"
   ]
  },
  {
   "cell_type": "markdown",
   "metadata": {},
   "source": [
    "Modelo de recomendacion"
   ]
  },
  {
   "cell_type": "code",
   "execution_count": 67,
   "metadata": {},
   "outputs": [
    {
     "name": "stdout",
     "output_type": "stream",
     "text": [
      "Precisión del modelo: 0.9007820886367122\n"
     ]
    }
   ],
   "source": [
    "#Seleccionar características (X) y la etiqueta (y)\n",
    "X = steam[[\"item_id\", \"release_year\", \"price\", \"sentiment_analysis\", \"playtime_forever\"]]\n",
    "y = steam[\"recommend\"]\n",
    "\n",
    "#Divide el conjunto de datos en conjuntos de entrenamiento y prueba\n",
    "X_train, X_test, y_train, y_test = train_test_split(X, y, test_size=0.2, random_state=42)\n",
    "\n",
    "#Crea y entrena el modelo\n",
    "modelo = RandomForestClassifier(n_estimators=100, random_state=42)\n",
    "modelo.fit(X_train, y_train)\n",
    "\n",
    "#Realiza predicciones en el conjunto de prueba\n",
    "predicciones = modelo.predict(X_test)\n",
    "\n",
    "#Evalúa la precisión del modelo\n",
    "precision = accuracy_score(y_test, predicciones)\n",
    "print(f\"Precisión del modelo: {precision}\")"
   ]
  }
 ],
 "metadata": {
  "kernelspec": {
   "display_name": "Python 3",
   "language": "python",
   "name": "python3"
  },
  "language_info": {
   "codemirror_mode": {
    "name": "ipython",
    "version": 3
   },
   "file_extension": ".py",
   "mimetype": "text/x-python",
   "name": "python",
   "nbconvert_exporter": "python",
   "pygments_lexer": "ipython3",
   "version": "3.11.9"
  }
 },
 "nbformat": 4,
 "nbformat_minor": 2
}
